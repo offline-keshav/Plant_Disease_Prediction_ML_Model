{
  "cells": [
    {
      "cell_type": "code",
      "execution_count": null,
      "metadata": {
        "id": "bUveLeXQVG4Y"
      },
      "outputs": [],
      "source": [
        "import tensorflow as tf\n",
        "import numpy as np\n",
        "import cv2\n",
        "# Model Path\n",
        "trained_model=tf.keras.models.load_model('/content/trained_model.keras')"
      ]
    },
    {
      "cell_type": "code",
      "execution_count": 23,
      "metadata": {
        "id": "OfsJkBKhWLI3"
      },
      "outputs": [],
      "source": [
        "image_path=\"/content/PotatoEarlyBlight4.JPG\"\n",
        "# Reading Path\n",
        "img= cv2.imread(image_path)\n",
        "img=cv2.cvtColor(img,cv2.COLOR_BGR2RGB) # Convert BGR to RGB\n",
        "# Displaying Image"
      ]
    },
    {
      "cell_type": "code",
      "execution_count": null,
      "metadata": {
        "colab": {
          "base_uri": "https://localhost:8080/",
          "height": 428
        },
        "id": "7F2Qe-NBXvHi",
        "outputId": "032426cd-cc67-4caa-c93e-20fecab5828f"
      },
      "outputs": [],
      "source": [
        "import matplotlib.pyplot as plt\n",
        "plt.imshow(img)\n",
        "plt.title(\"testing image\")\n",
        "plt.xticks([])\n",
        "plt.yticks([])\n",
        "plt.show()"
      ]
    },
    {
      "cell_type": "code",
      "execution_count": null,
      "metadata": {
        "colab": {
          "base_uri": "https://localhost:8080/"
        },
        "id": "P5eYSiOZZVP-",
        "outputId": "b2840f05-28d3-4f6e-92be-df7aa515237b"
      },
      "outputs": [],
      "source": [
        "# time to test\n",
        "image=tf.keras.preprocessing.image.load_img(image_path, target_size=(128,128))\n",
        "input_arr=tf.keras.preprocessing.image.img_to_array(image)\n",
        "input_arr=np.array([input_arr])\n",
        "print(input_arr.shape)"
      ]
    },
    {
      "cell_type": "code",
      "execution_count": null,
      "metadata": {
        "colab": {
          "base_uri": "https://localhost:8080/"
        },
        "id": "WjmRYGJqd1Zn",
        "outputId": "49161a75-28c8-40b4-fd5e-911c2a95a0b1"
      },
      "outputs": [],
      "source": [
        "prediction=trained_model.predict(input_arr)\n",
        "prediction,prediction.shape"
      ]
    },
    {
      "cell_type": "code",
      "execution_count": null,
      "metadata": {
        "colab": {
          "base_uri": "https://localhost:8080/"
        },
        "id": "clOo0I_peFmH",
        "outputId": "486778dc-8bb3-4268-bfe8-7d21818bd15f"
      },
      "outputs": [],
      "source": [
        "result_index=np.argmax(prediction)\n",
        "result_index"
      ]
    },
    {
      "cell_type": "code",
      "execution_count": 28,
      "metadata": {
        "id": "LMlF_vhFebiP"
      },
      "outputs": [],
      "source": [
        "class_name=['Apple___Apple_scab',\n",
        " 'Apple___Black_rot',\n",
        " 'Apple___Cedar_apple_rust',\n",
        " 'Apple___healthy',\n",
        " 'Blueberry___healthy',\n",
        " 'Cherry_(including_sour)___Powdery_mildew',\n",
        " 'Cherry_(including_sour)___healthy',\n",
        " 'Corn_(maize)___Cercospora_leaf_spot Gray_leaf_spot',\n",
        " 'Corn_(maize)___Common_rust_',\n",
        " 'Corn_(maize)___Northern_Leaf_Blight',\n",
        " 'Corn_(maize)___healthy',\n",
        " 'Grape___Black_rot',\n",
        " 'Grape___Esca_(Black_Measles)',\n",
        " 'Grape___Leaf_blight_(Isariopsis_Leaf_Spot)',\n",
        " 'Grape___healthy',\n",
        " 'Orange___Haunglongbing_(Citrus_greening)',\n",
        " 'Peach___Bacterial_spot',\n",
        " 'Peach___healthy',\n",
        " 'Pepper,_bell___Bacterial_spot',\n",
        " 'Pepper,_bell___healthy',\n",
        " 'Potato___Early_blight',\n",
        " 'Potato___Late_blight',\n",
        " 'Potato___healthy',\n",
        " 'Raspberry___healthy',\n",
        " 'Soybean___healthy',\n",
        " 'Squash___Powdery_mildew',\n",
        " 'Strawberry___Leaf_scorch',\n",
        " 'Strawberry___healthy',\n",
        " 'Tomato___Bacterial_spot',\n",
        " 'Tomato___Early_blight',\n",
        " 'Tomato___Late_blight',\n",
        " 'Tomato___Leaf_Mold',\n",
        " 'Tomato___Septoria_leaf_spot',\n",
        " 'Tomato___Spider_mites Two-spotted_spider_mite',\n",
        " 'Tomato___Target_Spot',\n",
        " 'Tomato___Tomato_Yellow_Leaf_Curl_Virus',\n",
        " 'Tomato___Tomato_mosaic_virus',\n",
        " 'Tomato___healthy']"
      ]
    },
    {
      "cell_type": "code",
      "execution_count": null,
      "metadata": {
        "colab": {
          "base_uri": "https://localhost:8080/",
          "height": 428
        },
        "id": "2OuODXCreoVL",
        "outputId": "92373733-a49f-4bf6-c197-b7eaa24a6c90"
      },
      "outputs": [],
      "source": [
        "model_prediction=class_name[result_index]\n",
        "plt.imshow(img)\n",
        "plt.title(f\"Disease_name: {model_prediction}\")\n",
        "plt.xticks([])\n",
        "plt.yticks([])\n",
        "plt.show()"
      ]
    },
    {
      "cell_type": "code",
      "execution_count": null,
      "metadata": {
        "id": "ew7tRS22fcZr"
      },
      "outputs": [],
      "source": []
    }
  ],
  "metadata": {
    "colab": {
      "provenance": []
    },
    "kernelspec": {
      "display_name": "Python 3",
      "name": "python3"
    },
    "language_info": {
      "name": "python",
      "version": "3.10.11"
    }
  },
  "nbformat": 4,
  "nbformat_minor": 0
}
